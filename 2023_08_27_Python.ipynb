{
  "nbformat": 4,
  "nbformat_minor": 0,
  "metadata": {
    "colab": {
      "private_outputs": true,
      "provenance": [],
      "toc_visible": true,
      "include_colab_link": true
    },
    "kernelspec": {
      "name": "python3",
      "display_name": "Python 3"
    },
    "language_info": {
      "name": "python"
    }
  },
  "cells": [
    {
      "cell_type": "markdown",
      "metadata": {
        "id": "view-in-github",
        "colab_type": "text"
      },
      "source": [
        "<a href=\"https://colab.research.google.com/github/jpatra85/ColabTF_EDU/blob/master/2023_08_27_Python.ipynb\" target=\"_parent\"><img src=\"https://colab.research.google.com/assets/colab-badge.svg\" alt=\"Open In Colab\"/></a>"
      ]
    },
    {
      "cell_type": "markdown",
      "source": [
        "# Functional Programming\n",
        " * *Pure* functions\n",
        " * Immutable data\n",
        " * Higher order functions"
      ],
      "metadata": {
        "id": "cdd7U7_WES5C"
      }
    },
    {
      "cell_type": "code",
      "source": [
        "def num2digits(n: int) -> list:\n",
        "    return [int(ch) for ch in str(n)]"
      ],
      "metadata": {
        "id": "6lgOcb3AHQOI"
      },
      "execution_count": null,
      "outputs": []
    },
    {
      "cell_type": "code",
      "source": [
        "f = num2digits"
      ],
      "metadata": {
        "id": "c5dQ0cJ5Hb3r"
      },
      "execution_count": null,
      "outputs": []
    },
    {
      "cell_type": "code",
      "source": [
        "f(1785)"
      ],
      "metadata": {
        "id": "lkoCUfl4HfF2"
      },
      "execution_count": null,
      "outputs": []
    },
    {
      "cell_type": "code",
      "source": [
        "n = 128758"
      ],
      "metadata": {
        "id": "Hma1a4ySOI06"
      },
      "execution_count": null,
      "outputs": []
    },
    {
      "cell_type": "code",
      "source": [
        "a = sorted(f(n))"
      ],
      "metadata": {
        "id": "unw6SqfFN_WI"
      },
      "execution_count": null,
      "outputs": []
    },
    {
      "cell_type": "code",
      "source": [
        "a"
      ],
      "metadata": {
        "id": "ovMP6dfOOUCZ"
      },
      "execution_count": null,
      "outputs": []
    },
    {
      "cell_type": "code",
      "source": [
        "def alpha(n: int) -> bool:\n",
        "    r = 0\n",
        "    while r * r < n:\n",
        "        r += 1\n",
        "    return r * r == n"
      ],
      "metadata": {
        "id": "vu8e203aHgPO"
      },
      "execution_count": null,
      "outputs": []
    },
    {
      "cell_type": "code",
      "source": [
        "def is_perfect_square(n: int) -> bool:\n",
        "    r = 0\n",
        "    while r * r < n:\n",
        "        r += 1\n",
        "    return r * r == n"
      ],
      "metadata": {
        "id": "ocHfpCsJJAHU"
      },
      "execution_count": null,
      "outputs": []
    },
    {
      "cell_type": "code",
      "source": [
        "def is_perfect_cube(n: int) -> bool:\n",
        "    r = 0\n",
        "    while r * r * r < n:\n",
        "        r += 1\n",
        "    return r * r * r == n"
      ],
      "metadata": {
        "id": "84OoZtzOJcNs"
      },
      "execution_count": null,
      "outputs": []
    },
    {
      "cell_type": "code",
      "source": [
        "def is_power2(n: int) -> bool:\n",
        "    r = 0\n",
        "    while 2 ** r < n:\n",
        "        r += 1\n",
        "    return 2 ** r == n"
      ],
      "metadata": {
        "id": "_wlcWX_QJg22"
      },
      "execution_count": null,
      "outputs": []
    },
    {
      "cell_type": "code",
      "source": [
        "def is_triangular(n: int) -> int:\n",
        "    r = 0\n",
        "    while (r * (r + 1)) // 2 < n:\n",
        "        r += 1\n",
        "    return (r * (r + 1)) // 2 == n"
      ],
      "metadata": {
        "id": "wHjfiLjDKlPm"
      },
      "execution_count": null,
      "outputs": []
    },
    {
      "cell_type": "code",
      "source": [
        "def is_(f, n: int) -> bool:\n",
        "    r = 0\n",
        "    while f(r) < n:\n",
        "        r += 1\n",
        "    return f(r) == n"
      ],
      "metadata": {
        "id": "JXKaT6TeLdH5"
      },
      "execution_count": null,
      "outputs": []
    },
    {
      "cell_type": "code",
      "source": [
        "def triangular(k: int) -> int:\n",
        "    return (k * (k + 1)) // 2"
      ],
      "metadata": {
        "id": "XcO_qyYuLrMT"
      },
      "execution_count": null,
      "outputs": []
    },
    {
      "cell_type": "code",
      "source": [
        "is_(triangular, 10)"
      ],
      "metadata": {
        "id": "hbIjWk2sL_iV"
      },
      "execution_count": null,
      "outputs": []
    },
    {
      "cell_type": "code",
      "source": [
        "is_(lambda n: (3 * n * n - n)//2, 22)"
      ],
      "metadata": {
        "id": "ulcv7JEyMCcH"
      },
      "execution_count": null,
      "outputs": []
    },
    {
      "cell_type": "code",
      "source": [
        "def isTr(n: int) -> bool:\n",
        "    return is_(triangular, n)"
      ],
      "metadata": {
        "id": "Sl6yfkFRN6lg"
      },
      "execution_count": null,
      "outputs": []
    },
    {
      "cell_type": "markdown",
      "source": [
        "# map, filter, reduce\n"
      ],
      "metadata": {
        "id": "ivqnpVgPSk0x"
      }
    },
    {
      "cell_type": "markdown",
      "source": [
        "$ L = L[0], L[1], L[2] ...$\n",
        "\n",
        "$map(f, L) \\equiv [f(L[0]), f(L[1]), f(L[2]) ... ]$"
      ],
      "metadata": {
        "id": "bj5dMNbpStax"
      }
    },
    {
      "cell_type": "code",
      "source": [
        "def square(x):\n",
        "    return x * x"
      ],
      "metadata": {
        "id": "J7A8UMpGTx3g"
      },
      "execution_count": null,
      "outputs": []
    },
    {
      "cell_type": "code",
      "source": [
        "map(square, [2, 9, -2, 6, 2])"
      ],
      "metadata": {
        "id": "a6CvxGjXT3Y2"
      },
      "execution_count": null,
      "outputs": []
    },
    {
      "cell_type": "code",
      "source": [
        "list(map(square, [2, 9, -2, 6, 2]))"
      ],
      "metadata": {
        "id": "sM3rTV42T6sB"
      },
      "execution_count": null,
      "outputs": []
    },
    {
      "cell_type": "markdown",
      "source": [
        "𝐿=𝐿[0],𝐿[1],𝐿[2]...\n",
        "\n",
        "filter(𝑓,𝐿) ≡ [𝐿[k],𝐿[p],L[q]...]\n",
        "\n",
        "Those L[i] for which f(L[i]) is True"
      ],
      "metadata": {
        "id": "2yqLQp4gT_J1"
      }
    },
    {
      "cell_type": "code",
      "source": [
        "filter(lambda x: x % 2 == 0, [1, 4, 6, 8, 7, 9, 4])"
      ],
      "metadata": {
        "id": "M92bV-FBW9nT"
      },
      "execution_count": null,
      "outputs": []
    },
    {
      "cell_type": "code",
      "source": [
        "list(filter(lambda x: x % 2 == 0, [1, 4, 6, 8, 7, 9, 4]))"
      ],
      "metadata": {
        "id": "uFx5xW7mXxOn"
      },
      "execution_count": null,
      "outputs": []
    },
    {
      "cell_type": "markdown",
      "source": [
        "# List comprehensions\n",
        "\n",
        "$S' = \\{ \\phi(x) | x \\in S, \\pi(x) \\}$\n",
        "\n",
        "$S1 = map(\\phi, filter(\\pi, S))$\n",
        "\n",
        "$S1 = [\\phi(x)~~for~~ x ~~in~~ S ~~if~~ \\pi(x)]$"
      ],
      "metadata": {
        "id": "AAo-i0lcXkRv"
      }
    },
    {
      "cell_type": "code",
      "source": [
        "s = [2, 4, 5, 7, 8, 4]\n",
        "def is_even(n: int) -> bool:\n",
        "    return n % 2 == 0\n",
        "def square(k: int) -> int:\n",
        "    return k * k"
      ],
      "metadata": {
        "id": "Dy8ZRqleXnPk"
      },
      "execution_count": null,
      "outputs": []
    },
    {
      "cell_type": "code",
      "source": [
        "list(map(square, filter(is_even, s)))"
      ],
      "metadata": {
        "id": "lyWBjzKxZlL-"
      },
      "execution_count": null,
      "outputs": []
    },
    {
      "cell_type": "code",
      "source": [
        "[square(x) for x in s if is_even(x)]"
      ],
      "metadata": {
        "id": "sRWfoF28ZrGM"
      },
      "execution_count": null,
      "outputs": []
    },
    {
      "cell_type": "code",
      "source": [
        "words = [\"span\", \"madam\", \"lock\", \"and\", \"hello\"]"
      ],
      "metadata": {
        "id": "oG4sCIfuZway"
      },
      "execution_count": null,
      "outputs": []
    },
    {
      "cell_type": "code",
      "source": [
        "[w.upper() for w in words if len(w) == 4]"
      ],
      "metadata": {
        "id": "57xk7lzjaWiA"
      },
      "execution_count": null,
      "outputs": []
    },
    {
      "cell_type": "code",
      "source": [
        "[int(ch) for ch in str(17865)]"
      ],
      "metadata": {
        "id": "DTHHK92gae7M"
      },
      "execution_count": null,
      "outputs": []
    },
    {
      "cell_type": "code",
      "source": [
        "map(int, str(17865))"
      ],
      "metadata": {
        "id": "92ktIdWtbUUr"
      },
      "execution_count": null,
      "outputs": []
    },
    {
      "cell_type": "code",
      "source": [
        "list(map(int, str(17865)))"
      ],
      "metadata": {
        "id": "B04XBny8bayr"
      },
      "execution_count": null,
      "outputs": []
    },
    {
      "cell_type": "markdown",
      "source": [
        "# Problem 1\n",
        "## FizzBuzz\n",
        "Based on a children's word game that helps teach division, the FizzBuzz problem is simple: Print integers one-to-N, but print “Fizz” if an integer is divisible by three, “Buzz” if an integer is divisible by five, and “FizzBuzz” if an integer is divisible by both three and five.\n",
        "\n",
        "Of course we will not print, instead generate the strings. IOW write a function that returns a list of the output of a FIZZBUZZ game -- upto a given limit"
      ],
      "metadata": {
        "id": "RelD-K5fbeiR"
      }
    },
    {
      "cell_type": "code",
      "source": [
        "def fizzbuzz1(n: int) -> str:\n",
        "    if n % 3 == 0 and n % 5 == 0:\n",
        "        return \"FizzBuzz\"\n",
        "    elif n % 3 == 0:\n",
        "        return \"Fizz\"\n",
        "    elif n % 5 == 0:\n",
        "        return \"Buzz\"\n",
        "    else:\n",
        "        return str(n)"
      ],
      "metadata": {
        "id": "FCqDojLjezna"
      },
      "execution_count": null,
      "outputs": []
    },
    {
      "cell_type": "code",
      "source": [
        "def fizzbuzz(limit: int) -> list:\n",
        "    return [fizzbuzz1(n) for n in range(1, limit+1)]"
      ],
      "metadata": {
        "id": "mW02EKOGlqni"
      },
      "execution_count": null,
      "outputs": []
    },
    {
      "cell_type": "code",
      "source": [
        "def fizzbuzz2(n: int) -> str:\n",
        "    out = \"\"\n",
        "    if n % 3 == 0:\n",
        "        out += \"Fizz\"\n",
        "    if n % 5 == 0:\n",
        "        out += \"Buzz\"\n",
        "    if out == \"\":\n",
        "        out = str(n)\n",
        "    return out"
      ],
      "metadata": {
        "id": "HzQ2YCoRl84o"
      },
      "execution_count": null,
      "outputs": []
    },
    {
      "cell_type": "code",
      "source": [
        "def fizzbuzz3(n: int) -> str:\n",
        "    fbs = {(True, True):    \"FizzBuzz\",\n",
        "           (True, False):   \"Buzz\",\n",
        "           (False, True):   \"Fizz\",\n",
        "           (False, False):  str(n)}\n",
        "    return fbs[(n % 5 == 0, n % 3 == 0)]"
      ],
      "metadata": {
        "id": "D4NjBS6EmOaJ"
      },
      "execution_count": null,
      "outputs": []
    },
    {
      "cell_type": "code",
      "source": [
        "def pick(n: int) -> int:\n",
        "    return int(n % 3 == 0) + 2 * int(n % 5 == 0)\n",
        "\n",
        "def fizzbuzz4(n: int) -> str:\n",
        "    values = [str(n), \"Fizz\", \"Buzz\", \"FizzBuzz\"]\n",
        "    index = pick(n)\n",
        "    return values[index]"
      ],
      "metadata": {
        "id": "5GZQ5VI7n-4y"
      },
      "execution_count": null,
      "outputs": []
    },
    {
      "cell_type": "code",
      "source": [
        "fizzbuzz4(15)"
      ],
      "metadata": {
        "id": "Alaov0FYpGHI"
      },
      "execution_count": null,
      "outputs": []
    },
    {
      "cell_type": "code",
      "source": [
        "def fizzbuzz5(n: int) -> str:\n",
        "    fbs = [\"FizzBuzz\", \"\", \"\", \"Fizz\", \"\", \"Buzz\", \"Fizz\", \"\",\n",
        "           \"\", \"Fizz\", \"Buzz\", \"\", \"Fizz\", \"\", \"\"]\n",
        "    pos = n % 15\n",
        "    if fbs[pos] == \"\":\n",
        "        return str(n)\n",
        "    else:\n",
        "        return fbs[pos]"
      ],
      "metadata": {
        "id": "tERXzg8xtFsI"
      },
      "execution_count": null,
      "outputs": []
    },
    {
      "cell_type": "code",
      "source": [
        "def fizzbuzz6(limit: int) -> list:\n",
        "    fbs = [str(n) for n in range(limit + 1)]\n",
        "    fbs[::3] = [\"Fizz\"] * len(fbs[::3])\n",
        "    fbs[::5] = [\"Buzz\"] * len(fbs[::5])\n",
        "    fbs[::15] = [\"FizzBuzz\"] * len(fbs[::15])\n",
        "    return fbs[1:]"
      ],
      "metadata": {
        "id": "-Z6joRRVt84C"
      },
      "execution_count": null,
      "outputs": []
    },
    {
      "cell_type": "markdown",
      "source": [
        "# Refactoring exercise"
      ],
      "metadata": {
        "id": "E8JrsU4qIacC"
      }
    },
    {
      "cell_type": "code",
      "source": [
        "def myfunc(a):\n",
        "    empty=[]\n",
        "    for i in range(len(a)):\n",
        "        if i%2==0:\n",
        "            empty.append(a[i].upper())\n",
        "        else:\n",
        "            empty.append(a[i].lower())\n",
        "\n",
        "    return \"\".join(empty)"
      ],
      "metadata": {
        "id": "uBIETEo-wIZx"
      },
      "execution_count": null,
      "outputs": []
    },
    {
      "cell_type": "code",
      "source": [
        "def alt_case(s: str) -> str:\n",
        "    def eo_case(ch: str, i: int) -> str:\n",
        "        if i % 2 == 0:\n",
        "            return ch.upper()\n",
        "        else:\n",
        "            return ch.lower()\n",
        "    return ''.join([eo_case(ch, i) for i, ch in enumerate(s)])"
      ],
      "metadata": {
        "id": "aAqqjkf_IlRs"
      },
      "execution_count": null,
      "outputs": []
    },
    {
      "cell_type": "code",
      "source": [
        "def alt_caseA(s: str) -> str:\n",
        "    transform = [str.upper, str.lower]\n",
        "    return ''.join([transform[i % 2](ch) for i, ch in enumerate(s)])"
      ],
      "metadata": {
        "id": "PdUwfmo0QnG7"
      },
      "execution_count": null,
      "outputs": []
    },
    {
      "cell_type": "code",
      "source": [
        "s = \"Hello World!\""
      ],
      "metadata": {
        "id": "aaUt6gH0RTWY"
      },
      "execution_count": null,
      "outputs": []
    },
    {
      "cell_type": "code",
      "source": [
        "alt_caseA(s)"
      ],
      "metadata": {
        "id": "LjRt0km-TGLc"
      },
      "execution_count": null,
      "outputs": []
    },
    {
      "cell_type": "code",
      "source": [
        "s[::2].upper()"
      ],
      "metadata": {
        "id": "CJVgMTdhTImN"
      },
      "execution_count": null,
      "outputs": []
    },
    {
      "cell_type": "code",
      "source": [
        "s[1::2].lower()"
      ],
      "metadata": {
        "id": "XltMEJswTPXA"
      },
      "execution_count": null,
      "outputs": []
    },
    {
      "cell_type": "code",
      "source": [
        "a = [1, 2, 3, 4]\n",
        "b = \"ABCD\""
      ],
      "metadata": {
        "id": "aEb8A2F-TRQ0"
      },
      "execution_count": null,
      "outputs": []
    },
    {
      "cell_type": "code",
      "source": [
        "zip(a, b)"
      ],
      "metadata": {
        "id": "Q353KXF0TsDw"
      },
      "execution_count": null,
      "outputs": []
    },
    {
      "cell_type": "code",
      "source": [
        "list(zip(a,b))"
      ],
      "metadata": {
        "id": "Ho-6iOWATtwe"
      },
      "execution_count": null,
      "outputs": []
    },
    {
      "cell_type": "code",
      "source": [
        "list(zip(s[::2].upper(), s[1::2].lower()))"
      ],
      "metadata": {
        "id": "F99OA_95TwHj"
      },
      "execution_count": null,
      "outputs": []
    },
    {
      "cell_type": "code",
      "source": [
        "''.join([''.join(ul) for ul in zip(s[::2].upper(), s[1::2].lower())])"
      ],
      "metadata": {
        "id": "Z78kTLfsUX7-"
      },
      "execution_count": null,
      "outputs": []
    },
    {
      "cell_type": "code",
      "source": [
        "def alt_caseB(s: str) -> str:\n",
        "    return ''.join([''.join(ul) for ul in zip(s[::2].upper(), s[1::2].lower())])"
      ],
      "metadata": {
        "id": "LIwEoTooUqAv"
      },
      "execution_count": null,
      "outputs": []
    },
    {
      "cell_type": "code",
      "source": [
        "alt_caseB(\"Hello World!\")"
      ],
      "metadata": {
        "id": "HpcRN1PlVXwk"
      },
      "execution_count": null,
      "outputs": []
    },
    {
      "cell_type": "code",
      "source": [
        "alt_caseB(\"Hello World\")"
      ],
      "metadata": {
        "id": "4y8dIetiVgnc"
      },
      "execution_count": null,
      "outputs": []
    },
    {
      "cell_type": "code",
      "source": [
        "import itertools as it\n",
        "def alt_caseC(s: str) -> str:\n",
        "    return ''.join([''.join(ul) for ul in\n",
        "                    it.zip_longest(s[::2].upper(), s[1::2].lower(), fillvalue='')])"
      ],
      "metadata": {
        "id": "WdelPN03Vklg"
      },
      "execution_count": null,
      "outputs": []
    },
    {
      "cell_type": "code",
      "source": [
        "alt_caseC(\"Hello World\")"
      ],
      "metadata": {
        "id": "R2zrYV8EXhP3"
      },
      "execution_count": null,
      "outputs": []
    },
    {
      "cell_type": "code",
      "source": [
        "s"
      ],
      "metadata": {
        "id": "ayErAX6EZE1E"
      },
      "execution_count": null,
      "outputs": []
    },
    {
      "cell_type": "code",
      "source": [
        "s[::2] = s[::2].upper()"
      ],
      "metadata": {
        "id": "uWFsY_osZ_Yc"
      },
      "execution_count": null,
      "outputs": []
    },
    {
      "cell_type": "code",
      "source": [
        "sl = list(\"Hello World\")"
      ],
      "metadata": {
        "id": "KyPaM-BgaDjZ"
      },
      "execution_count": null,
      "outputs": []
    },
    {
      "cell_type": "code",
      "source": [
        "sl[::2] = sl[::2].upper()"
      ],
      "metadata": {
        "id": "pnBQemyfbElx"
      },
      "execution_count": null,
      "outputs": []
    },
    {
      "cell_type": "code",
      "source": [
        "sl[::2] = s[::2].upper()"
      ],
      "metadata": {
        "id": "1H1Fg9kCbR85"
      },
      "execution_count": null,
      "outputs": []
    },
    {
      "cell_type": "code",
      "source": [
        "sl"
      ],
      "metadata": {
        "id": "cDSXQ7-lbX8L"
      },
      "execution_count": null,
      "outputs": []
    },
    {
      "cell_type": "code",
      "source": [
        "def alt_caseD(s: str) -> str:\n",
        "    sl = list(s.lower())\n",
        "    sl[::2] = s[::2].upper()\n",
        "    return ''.join(sl)"
      ],
      "metadata": {
        "id": "3L48EI4BbZSB"
      },
      "execution_count": null,
      "outputs": []
    },
    {
      "cell_type": "code",
      "source": [
        "alt_caseD(\"Hello World!\")"
      ],
      "metadata": {
        "id": "HVt9qpg1b8nS"
      },
      "execution_count": null,
      "outputs": []
    },
    {
      "cell_type": "code",
      "source": [
        "alt_caseD(\"Hello World\")"
      ],
      "metadata": {
        "id": "e8knNPYtcAY_"
      },
      "execution_count": null,
      "outputs": []
    },
    {
      "cell_type": "markdown",
      "source": [
        "# A lovely method from Jyotirmoy.\n",
        "Thanks"
      ],
      "metadata": {
        "id": "YE3r_O1ol_K4"
      }
    },
    {
      "cell_type": "code",
      "source": [
        "s = \"Some String\"\n",
        "up = enumerate(s[0::2].upper())\n",
        "lo = enumerate(s[1::2].lower())\n",
        "''.join([ch for _, ch in sorted(list(up) + list(lo))])"
      ],
      "metadata": {
        "id": "BW2CMUx_cCvG"
      },
      "execution_count": null,
      "outputs": []
    },
    {
      "cell_type": "code",
      "source": [],
      "metadata": {
        "id": "asYl6wBMmaa_"
      },
      "execution_count": null,
      "outputs": []
    }
  ]
}